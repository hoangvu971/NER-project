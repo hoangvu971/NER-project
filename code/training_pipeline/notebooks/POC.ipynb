{
 "cells": [
  {
   "cell_type": "code",
   "execution_count": 3,
   "metadata": {},
   "outputs": [
    {
     "name": "stdout",
     "output_type": "stream",
     "text": [
      "trim trailing whitespace.................................................\u001b[42mPassed\u001b[m\n",
      "check toml...............................................................\u001b[42mPassed\u001b[m\n",
      "check yaml...............................................................\u001b[42mPassed\u001b[m\n",
      "check json...............................................................\u001b[42mPassed\u001b[m\n",
      "check for merge conflicts................................................\u001b[42mPassed\u001b[m\n",
      "check for added large files..............................................\u001b[42mPassed\u001b[m\n",
      "debug statements (python)................................................\u001b[42mPassed\u001b[m\n",
      "detect private key.......................................................\u001b[42mPassed\u001b[m\n",
      "black....................................................................\u001b[42mPassed\u001b[m\n",
      "flake8...................................................................\u001b[42mPassed\u001b[m\n",
      "shellcheck...........................................(no files to check)\u001b[46;30mSkipped\u001b[m\n"
     ]
    }
   ],
   "source": [
    "!pre-commit run --all-files"
   ]
  },
  {
   "cell_type": "code",
   "execution_count": null,
   "metadata": {},
   "outputs": [],
   "source": []
  }
 ],
 "metadata": {
  "kernelspec": {
   "display_name": "training-pipeline",
   "language": "python",
   "name": "python3"
  },
  "language_info": {
   "codemirror_mode": {
    "name": "ipython",
    "version": 3
   },
   "file_extension": ".py",
   "mimetype": "text/x-python",
   "name": "python",
   "nbconvert_exporter": "python",
   "pygments_lexer": "ipython3",
   "version": "3.10.14"
  }
 },
 "nbformat": 4,
 "nbformat_minor": 2
}
