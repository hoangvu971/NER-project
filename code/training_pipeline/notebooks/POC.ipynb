{
 "cells": [
  {
   "cell_type": "code",
   "execution_count": 4,
   "metadata": {},
   "outputs": [
    {
     "name": "stdout",
     "output_type": "stream",
     "text": [
      "/root/NER-project/code/training_pipeline/notebooks\n"
     ]
    }
   ],
   "source": [
    "!pwd"
   ]
  },
  {
   "cell_type": "code",
   "execution_count": 5,
   "metadata": {},
   "outputs": [],
   "source": [
    "from pathlib import Path\n",
    "from datasets import load_dataset\n",
    "import pandas as pd\n",
    "import torch\n",
    "from transformers import AutoTokenizer, DataCollatorForTokenClassification, AutoModelForTokenClassification, pipeline\n",
    "import evaluate\n",
    "import numpy as np\n",
    "\n",
    "from huggingface_hub import notebook_login\n",
    "import wandb"
   ]
  },
  {
   "cell_type": "code",
   "execution_count": 6,
   "metadata": {},
   "outputs": [],
   "source": [
    "DATA_DIR = Path(\"./data/wnut_17\")\n",
    "MODEL_DIR = Path(\"NER_hugg_model\")"
   ]
  },
  {
   "cell_type": "code",
   "execution_count": 7,
   "metadata": {},
   "outputs": [],
   "source": [
    "from datasets import load_dataset\n",
    "wnut = load_dataset(\"wnut_17\", cache_dir=DATA_DIR)"
   ]
  },
  {
   "cell_type": "code",
   "execution_count": 8,
   "metadata": {},
   "outputs": [
    {
     "data": {
      "text/plain": [
       "41"
      ]
     },
     "execution_count": 8,
     "metadata": {},
     "output_type": "execute_result"
    }
   ],
   "source": [
    "train_df = pd.DataFrame(wnut['train'])\n",
    "train_df.tokens.apply(len).max()"
   ]
  },
  {
   "cell_type": "code",
   "execution_count": 9,
   "metadata": {},
   "outputs": [
    {
     "data": {
      "text/plain": [
       "['O',\n",
       " 'B-corporation',\n",
       " 'I-corporation',\n",
       " 'B-creative-work',\n",
       " 'I-creative-work',\n",
       " 'B-group',\n",
       " 'I-group',\n",
       " 'B-location',\n",
       " 'I-location',\n",
       " 'B-person',\n",
       " 'I-person',\n",
       " 'B-product',\n",
       " 'I-product']"
      ]
     },
     "execution_count": 9,
     "metadata": {},
     "output_type": "execute_result"
    }
   ],
   "source": [
    "label_list = wnut[\"train\"].features[f\"ner_tags\"].feature.names\n",
    "label_list"
   ]
  },
  {
   "cell_type": "code",
   "execution_count": 10,
   "metadata": {},
   "outputs": [],
   "source": [
    "tokenizer = AutoTokenizer.from_pretrained(MODEL_DIR)"
   ]
  },
  {
   "cell_type": "code",
   "execution_count": 11,
   "metadata": {},
   "outputs": [],
   "source": [
    "example = wnut[\"train\"][0]\n",
    "tokenized_input = tokenizer(example[\"tokens\"], is_split_into_words = True)\n",
    "tokens = tokenizer.convert_ids_to_tokens(tokenized_input[\"input_ids\"])"
   ]
  },
  {
   "cell_type": "code",
   "execution_count": 12,
   "metadata": {},
   "outputs": [],
   "source": [
    "def tokenize_and_align_labels(examples):\n",
    "    tokenized_inputs = tokenizer(examples[\"tokens\"], truncation=True, is_split_into_words=True)\n",
    "    labels = []\n",
    "    for i, label in enumerate(examples[f\"ner_tags\"]):\n",
    "        word_ids = tokenized_inputs.word_ids(batch_index=i)\n",
    "        previous_word_idx = None\n",
    "        label_ids = []\n",
    "        for word_idx in word_ids:\n",
    "            if word_idx is None:\n",
    "                label_ids.append(-100)\n",
    "            elif word_idx != previous_word_idx:\n",
    "                label_ids.append(label[word_idx])\n",
    "            else:\n",
    "                label_ids.append(-100)\n",
    "            previous_word_idx = word_idx\n",
    "        labels.append(label_ids)\n",
    "    tokenized_inputs[\"labels\"] = labels\n",
    "    return tokenized_inputs"
   ]
  },
  {
   "cell_type": "code",
   "execution_count": 13,
   "metadata": {},
   "outputs": [
    {
     "data": {
      "application/vnd.jupyter.widget-view+json": {
       "model_id": "8b061a2e90ae4dc9acdb5c886f4a38c7",
       "version_major": 2,
       "version_minor": 0
      },
      "text/plain": [
       "Map:   0%|          | 0/1009 [00:00<?, ? examples/s]"
      ]
     },
     "metadata": {},
     "output_type": "display_data"
    }
   ],
   "source": [
    "tokenized_wnut = wnut.map(tokenize_and_align_labels, batched=True)"
   ]
  },
  {
   "cell_type": "code",
   "execution_count": 14,
   "metadata": {},
   "outputs": [],
   "source": [
    "data_collator = DataCollatorForTokenClassification(tokenizer=tokenizer)"
   ]
  },
  {
   "cell_type": "code",
   "execution_count": 15,
   "metadata": {},
   "outputs": [
    {
     "name": "stderr",
     "output_type": "stream",
     "text": [
      "huggingface/tokenizers: The current process just got forked, after parallelism has already been used. Disabling parallelism to avoid deadlocks...\n",
      "To disable this warning, you can either:\n",
      "\t- Avoid using `tokenizers` before the fork if possible\n",
      "\t- Explicitly set the environment variable TOKENIZERS_PARALLELISM=(true | false)\n"
     ]
    },
    {
     "name": "stdout",
     "output_type": "stream",
     "text": [
      "\u001b[33mWARNING: Running pip as the 'root' user can result in broken permissions and conflicting behaviour with the system package manager. It is recommended to use a virtual environment instead: https://pip.pypa.io/warnings/venv\u001b[0m\u001b[33m\n",
      "\u001b[0m"
     ]
    }
   ],
   "source": [
    "!pip install -q evaluate seqeval"
   ]
  },
  {
   "cell_type": "code",
   "execution_count": 16,
   "metadata": {},
   "outputs": [],
   "source": [
    "import evaluate\n",
    "seqeval = evaluate.load(\"seqeval\")"
   ]
  },
  {
   "cell_type": "code",
   "execution_count": 17,
   "metadata": {},
   "outputs": [
    {
     "data": {
      "text/plain": [
       "['O',\n",
       " 'O',\n",
       " 'O',\n",
       " 'O',\n",
       " 'O',\n",
       " 'O',\n",
       " 'O',\n",
       " 'O',\n",
       " 'O',\n",
       " 'O',\n",
       " 'O',\n",
       " 'O',\n",
       " 'O',\n",
       " 'O',\n",
       " 'B-location',\n",
       " 'I-location',\n",
       " 'I-location',\n",
       " 'O',\n",
       " 'B-location',\n",
       " 'O',\n",
       " 'O',\n",
       " 'O',\n",
       " 'O',\n",
       " 'O',\n",
       " 'O',\n",
       " 'O',\n",
       " 'O']"
      ]
     },
     "execution_count": 17,
     "metadata": {},
     "output_type": "execute_result"
    }
   ],
   "source": [
    "labels = [label_list[i] for i in example[f\"ner_tags\"]]\n",
    "labels"
   ]
  },
  {
   "cell_type": "code",
   "execution_count": 18,
   "metadata": {},
   "outputs": [],
   "source": [
    "def compute_metrics(p):\n",
    "    predictions, labels = p\n",
    "    predictions = np.argmax(predictions, axis=2)\n",
    "\n",
    "    true_predictions = [\n",
    "        [label_list[p] for (p, l) in zip(prediction, label) if l != -100]\n",
    "        for prediction, label in zip(predictions, labels)\n",
    "    ]\n",
    "    true_labels = [\n",
    "        [label_list[l] for (p, l) in zip(prediction, label) if l != -100]\n",
    "        for prediction, label in zip(predictions, labels)\n",
    "    ]\n",
    "\n",
    "    results = seqeval.compute(predictions=true_predictions, references=true_labels)\n",
    "    return {\n",
    "        \"precision\": results[\"overall_precision\"],\n",
    "        \"recall\": results[\"overall_recall\"],\n",
    "        \"f1\": results[\"overall_f1\"],\n",
    "        \"accuracy\": results[\"overall_accuracy\"],\n",
    "}"
   ]
  },
  {
   "cell_type": "code",
   "execution_count": 19,
   "metadata": {},
   "outputs": [],
   "source": [
    "id2label = {\n",
    "    0: \"O\",\n",
    "    1: \"B-corporation\",\n",
    "    2: \"I-corporation\",\n",
    "    3: \"B-creative-work\",\n",
    "    4: \"I-creative-work\",\n",
    "    5: \"B-group\",\n",
    "    6: \"I-group\",\n",
    "    7: \"B-location\",\n",
    "    8: \"I-location\",\n",
    "    9: \"B-person\",\n",
    "    10: \"I-person\",\n",
    "    11: \"B-product\",\n",
    "    12: \"I-product\",\n",
    "    }\n",
    "label2id = {\n",
    "    \"O\": 0,\n",
    "    \"B-corporation\": 1,\n",
    "    \"I-corporation\": 2,\n",
    "    \"B-creative-work\": 3,\n",
    "    \"I-creative-work\": 4,\n",
    "    \"B-group\": 5,\n",
    "    \"I-group\": 6,\n",
    "    \"B-location\": 7,\n",
    "    \"I-location\": 8,\n",
    "    \"B-person\": 9,\n",
    "    \"I-person\": 10,\n",
    "    \"B-product\": 11,\n",
    "    \"I-product\": 12,\n",
    "}"
   ]
  },
  {
   "cell_type": "code",
   "execution_count": 20,
   "metadata": {},
   "outputs": [
    {
     "name": "stderr",
     "output_type": "stream",
     "text": [
      "Some weights of DistilBertForTokenClassification were not initialized from the model checkpoint at distilbert/distilbert-base-uncased and are newly initialized: ['classifier.bias', 'classifier.weight']\n",
      "You should probably TRAIN this model on a down-stream task to be able to use it for predictions and inference.\n"
     ]
    }
   ],
   "source": [
    "model = AutoModelForTokenClassification.from_pretrained(\n",
    "    'distilbert/distilbert-base-uncased',\n",
    "    num_labels = 13,\n",
    "    id2label = id2label,\n",
    "    label2id= label2id,\n",
    "    torchscript=True\n",
    ")"
   ]
  },
  {
   "cell_type": "code",
   "execution_count": 21,
   "metadata": {},
   "outputs": [],
   "source": [
    "import os\n",
    "os.environ[\"WANDB_PROJECT\"]=\"NER\"\n",
    "os.environ[\"WANDB_LOG_MODEL\"]=\"end\"\n",
    "os.environ[\"WANDB_NOTEBOOK_NAME\"]=\"POC\""
   ]
  },
  {
   "cell_type": "code",
   "execution_count": 22,
   "metadata": {},
   "outputs": [
    {
     "name": "stderr",
     "output_type": "stream",
     "text": [
      "\u001b[34m\u001b[1mwandb\u001b[0m: \u001b[33mWARNING\u001b[0m WANDB_NOTEBOOK_NAME should be a path to a notebook file, couldn't find POC.\n",
      "\u001b[34m\u001b[1mwandb\u001b[0m: Currently logged in as: \u001b[33mphamlehoangvu97\u001b[0m (\u001b[33mthomas24\u001b[0m). Use \u001b[1m`wandb login --relogin`\u001b[0m to force relogin\n"
     ]
    },
    {
     "data": {
      "text/plain": [
       "True"
      ]
     },
     "execution_count": 22,
     "metadata": {},
     "output_type": "execute_result"
    }
   ],
   "source": [
    "import wandb\n",
    "wandb.login()"
   ]
  },
  {
   "cell_type": "code",
   "execution_count": 23,
   "metadata": {},
   "outputs": [
    {
     "name": "stderr",
     "output_type": "stream",
     "text": [
      "/root/anaconda3/envs/training-pipeline/lib/python3.10/site-packages/transformers/training_args.py:1494: FutureWarning: `evaluation_strategy` is deprecated and will be removed in version 4.46 of 🤗 Transformers. Use `eval_strategy` instead\n",
      "  warnings.warn(\n"
     ]
    }
   ],
   "source": [
    "from transformers import TrainingArguments\n",
    "\n",
    "training_args = TrainingArguments(\n",
    "    output_dir = \"NER_model\",\n",
    "    learning_rate = 2e-5,\n",
    "    per_device_train_batch_size = 16,\n",
    "    per_device_eval_batch_size=16,\n",
    "    num_train_epochs = 2,\n",
    "    weight_decay = 0.01,\n",
    "    evaluation_strategy = \"epoch\",\n",
    "    save_strategy = \"epoch\",\n",
    "    load_best_model_at_end = True,\n",
    "    report_to=\"wandb\",\n",
    "    logging_steps=1,\n",
    "    push_to_hub=True\n",
    ")"
   ]
  },
  {
   "cell_type": "code",
   "execution_count": 24,
   "metadata": {},
   "outputs": [],
   "source": [
    "from transformers import Trainer\n",
    "\n",
    "trainer = Trainer(\n",
    "    model = model,\n",
    "    train_dataset = tokenized_wnut[\"train\"],\n",
    "    eval_dataset = tokenized_wnut[\"test\"],\n",
    "    tokenizer = tokenizer,\n",
    "    data_collator = data_collator,\n",
    "    compute_metrics = compute_metrics,\n",
    "    args = training_args\n",
    ")"
   ]
  },
  {
   "cell_type": "code",
   "execution_count": 25,
   "metadata": {},
   "outputs": [
    {
     "name": "stderr",
     "output_type": "stream",
     "text": [
      "\u001b[34m\u001b[1mwandb\u001b[0m: \u001b[33mWARNING\u001b[0m The `run_name` is currently set to the same value as `TrainingArguments.output_dir`. If this was not intended, please specify a different run name by setting the `TrainingArguments.run_name` parameter.\n"
     ]
    },
    {
     "data": {
      "text/html": [
       "wandb version 0.17.5 is available!  To upgrade, please run:\n",
       " $ pip install wandb --upgrade"
      ],
      "text/plain": [
       "<IPython.core.display.HTML object>"
      ]
     },
     "metadata": {},
     "output_type": "display_data"
    },
    {
     "data": {
      "text/html": [
       "Tracking run with wandb version 0.17.4"
      ],
      "text/plain": [
       "<IPython.core.display.HTML object>"
      ]
     },
     "metadata": {},
     "output_type": "display_data"
    },
    {
     "data": {
      "text/html": [
       "Run data is saved locally in <code>/root/NER-project/code/training_pipeline/notebooks/wandb/run-20240720_095117-i1vf2q2t</code>"
      ],
      "text/plain": [
       "<IPython.core.display.HTML object>"
      ]
     },
     "metadata": {},
     "output_type": "display_data"
    },
    {
     "data": {
      "text/html": [
       "Syncing run <strong><a href='https://wandb.ai/thomas24/NER/runs/i1vf2q2t' target=\"_blank\">NER_model</a></strong> to <a href='https://wandb.ai/thomas24/NER' target=\"_blank\">Weights & Biases</a> (<a href='https://wandb.me/run' target=\"_blank\">docs</a>)<br/>"
      ],
      "text/plain": [
       "<IPython.core.display.HTML object>"
      ]
     },
     "metadata": {},
     "output_type": "display_data"
    },
    {
     "data": {
      "text/html": [
       " View project at <a href='https://wandb.ai/thomas24/NER' target=\"_blank\">https://wandb.ai/thomas24/NER</a>"
      ],
      "text/plain": [
       "<IPython.core.display.HTML object>"
      ]
     },
     "metadata": {},
     "output_type": "display_data"
    },
    {
     "data": {
      "text/html": [
       " View run at <a href='https://wandb.ai/thomas24/NER/runs/i1vf2q2t' target=\"_blank\">https://wandb.ai/thomas24/NER/runs/i1vf2q2t</a>"
      ],
      "text/plain": [
       "<IPython.core.display.HTML object>"
      ]
     },
     "metadata": {},
     "output_type": "display_data"
    },
    {
     "data": {
      "text/html": [
       "\n",
       "    <div>\n",
       "      \n",
       "      <progress value='426' max='426' style='width:300px; height:20px; vertical-align: middle;'></progress>\n",
       "      [426/426 01:25, Epoch 2/2]\n",
       "    </div>\n",
       "    <table border=\"1\" class=\"dataframe\">\n",
       "  <thead>\n",
       " <tr style=\"text-align: left;\">\n",
       "      <th>Epoch</th>\n",
       "      <th>Training Loss</th>\n",
       "      <th>Validation Loss</th>\n",
       "      <th>Precision</th>\n",
       "      <th>Recall</th>\n",
       "      <th>F1</th>\n",
       "      <th>Accuracy</th>\n",
       "    </tr>\n",
       "  </thead>\n",
       "  <tbody>\n",
       "    <tr>\n",
       "      <td>1</td>\n",
       "      <td>0.522200</td>\n",
       "      <td>0.278856</td>\n",
       "      <td>0.578947</td>\n",
       "      <td>0.244671</td>\n",
       "      <td>0.343974</td>\n",
       "      <td>0.938352</td>\n",
       "    </tr>\n",
       "    <tr>\n",
       "      <td>2</td>\n",
       "      <td>0.050800</td>\n",
       "      <td>0.271013</td>\n",
       "      <td>0.601754</td>\n",
       "      <td>0.317887</td>\n",
       "      <td>0.416010</td>\n",
       "      <td>0.942029</td>\n",
       "    </tr>\n",
       "  </tbody>\n",
       "</table><p>"
      ],
      "text/plain": [
       "<IPython.core.display.HTML object>"
      ]
     },
     "metadata": {},
     "output_type": "display_data"
    },
    {
     "name": "stderr",
     "output_type": "stream",
     "text": [
      "/root/anaconda3/envs/training-pipeline/lib/python3.10/site-packages/seqeval/metrics/v1.py:57: UndefinedMetricWarning: Precision and F-score are ill-defined and being set to 0.0 in labels with no predicted samples. Use `zero_division` parameter to control this behavior.\n",
      "  _warn_prf(average, modifier, msg_start, len(result))\n"
     ]
    },
    {
     "data": {
      "text/plain": [
       "TrainOutput(global_step=426, training_loss=0.2139244271451039, metrics={'train_runtime': 40.2235, 'train_samples_per_second': 168.757, 'train_steps_per_second': 10.591, 'total_flos': 91781128898820.0, 'train_loss': 0.2139244271451039, 'epoch': 2.0})"
      ]
     },
     "execution_count": 25,
     "metadata": {},
     "output_type": "execute_result"
    }
   ],
   "source": [
    "trainer.train()"
   ]
  },
  {
   "cell_type": "code",
   "execution_count": 26,
   "metadata": {},
   "outputs": [
    {
     "data": {
      "application/vnd.jupyter.widget-view+json": {
       "model_id": "d91a2b27323046269388f2c7071afac2",
       "version_major": 2,
       "version_minor": 0
      },
      "text/plain": [
       "VBox(children=(Label(value='254.116 MB of 254.139 MB uploaded (0.001 MB deduped)\\r'), FloatProgress(value=0.99…"
      ]
     },
     "metadata": {},
     "output_type": "display_data"
    },
    {
     "data": {
      "text/html": [
       "<style>\n",
       "    table.wandb td:nth-child(1) { padding: 0 10px; text-align: left ; width: auto;} td:nth-child(2) {text-align: left ; width: 100%}\n",
       "    .wandb-row { display: flex; flex-direction: row; flex-wrap: wrap; justify-content: flex-start; width: 100% }\n",
       "    .wandb-col { display: flex; flex-direction: column; flex-basis: 100%; flex: 1; padding: 10px; }\n",
       "    </style>\n",
       "<div class=\"wandb-row\"><div class=\"wandb-col\"><h3>Run history:</h3><br/><table class=\"wandb\"><tr><td>eval/accuracy</td><td>▁█</td></tr><tr><td>eval/f1</td><td>▁█</td></tr><tr><td>eval/loss</td><td>█▁</td></tr><tr><td>eval/precision</td><td>▁█</td></tr><tr><td>eval/recall</td><td>▁█</td></tr><tr><td>eval/runtime</td><td>█▁</td></tr><tr><td>eval/samples_per_second</td><td>▁█</td></tr><tr><td>eval/steps_per_second</td><td>▁█</td></tr><tr><td>train/epoch</td><td>▁▁▁▂▂▂▂▂▂▃▃▃▃▃▄▄▄▄▄▄▅▅▅▅▅▅▆▆▆▆▆▇▇▇▇▇▇███</td></tr><tr><td>train/global_step</td><td>▁▁▁▂▂▂▂▂▂▃▃▃▃▃▄▄▄▄▄▄▅▅▅▅▅▅▆▆▆▆▆▇▇▇▇▇▇███</td></tr><tr><td>train/grad_norm</td><td>█▆▂▁▁▁▂▂▂▂▁▁▁▁▁▁▂▂▁▂▂▁▁▂▁▂▁▁▂▃▂▂▂▂▂▁▂▁▂▃</td></tr><tr><td>train/learning_rate</td><td>███▇▇▇▇▇▇▆▆▆▆▆▆▅▅▅▅▅▄▄▄▄▄▄▃▃▃▃▃▂▂▂▂▂▂▁▁▁</td></tr><tr><td>train/loss</td><td>█▄▃▂▂▂▂▁▂▂▁▁▁▁▁▁▁▁▁▂▂▁▁▂▁▁▁▁▁▁▂▁▁▁▁▁▁▁▁▂</td></tr></table><br/></div><div class=\"wandb-col\"><h3>Run summary:</h3><br/><table class=\"wandb\"><tr><td>eval/accuracy</td><td>0.94203</td></tr><tr><td>eval/f1</td><td>0.41601</td></tr><tr><td>eval/loss</td><td>0.27101</td></tr><tr><td>eval/precision</td><td>0.60175</td></tr><tr><td>eval/recall</td><td>0.31789</td></tr><tr><td>eval/runtime</td><td>2.0388</td></tr><tr><td>eval/samples_per_second</td><td>631.265</td></tr><tr><td>eval/steps_per_second</td><td>39.73</td></tr><tr><td>total_flos</td><td>91781128898820.0</td></tr><tr><td>train/epoch</td><td>2.0</td></tr><tr><td>train/global_step</td><td>426</td></tr><tr><td>train/grad_norm</td><td>2.81833</td></tr><tr><td>train/learning_rate</td><td>0.0</td></tr><tr><td>train/loss</td><td>0.0508</td></tr><tr><td>train_loss</td><td>0.21392</td></tr><tr><td>train_runtime</td><td>40.2235</td></tr><tr><td>train_samples_per_second</td><td>168.757</td></tr><tr><td>train_steps_per_second</td><td>10.591</td></tr></table><br/></div></div>"
      ],
      "text/plain": [
       "<IPython.core.display.HTML object>"
      ]
     },
     "metadata": {},
     "output_type": "display_data"
    },
    {
     "data": {
      "text/html": [
       " View run <strong style=\"color:#cdcd00\">NER_model</strong> at: <a href='https://wandb.ai/thomas24/NER/runs/i1vf2q2t' target=\"_blank\">https://wandb.ai/thomas24/NER/runs/i1vf2q2t</a><br/> View project at: <a href='https://wandb.ai/thomas24/NER' target=\"_blank\">https://wandb.ai/thomas24/NER</a><br/>Synced 6 W&B file(s), 0 media file(s), 9 artifact file(s) and 0 other file(s)"
      ],
      "text/plain": [
       "<IPython.core.display.HTML object>"
      ]
     },
     "metadata": {},
     "output_type": "display_data"
    },
    {
     "data": {
      "text/html": [
       "Find logs at: <code>./wandb/run-20240720_095117-i1vf2q2t/logs</code>"
      ],
      "text/plain": [
       "<IPython.core.display.HTML object>"
      ]
     },
     "metadata": {},
     "output_type": "display_data"
    },
    {
     "data": {
      "text/html": [
       "The new W&B backend becomes opt-out in version 0.18.0; try it out with `wandb.require(\"core\")`! See https://wandb.me/wandb-core for more information."
      ],
      "text/plain": [
       "<IPython.core.display.HTML object>"
      ]
     },
     "metadata": {},
     "output_type": "display_data"
    }
   ],
   "source": [
    "wandb.finish()"
   ]
  },
  {
   "cell_type": "code",
   "execution_count": 27,
   "metadata": {},
   "outputs": [],
   "source": [
    "text = \"[CLS] Who was Jim Henson ? [SEP] Jim Henson was a puppeteer [SEP]\"\n",
    "tokenized_text = tokenizer.tokenize(text)\n",
    "\n",
    "# Masking one of the input tokens\n",
    "masked_index = 8\n",
    "# tokenized_text[masked_index] = \"[MASK]\"\n",
    "indexed_tokens = tokenizer.convert_tokens_to_ids(tokenized_text)\n",
    "segments_ids = [0, 0, 0, 0, 0, 0, 0, 1, 1, 1, 1, 1, 1, 1]\n",
    "\n",
    "# Creating a dummy input\n",
    "tokens_tensor = torch.tensor([indexed_tokens])\n",
    "segments_tensors = torch.tensor([segments_ids])\n",
    "dummy_input = [tokens_tensor, segments_tensors]"
   ]
  },
  {
   "cell_type": "code",
   "execution_count": 28,
   "metadata": {},
   "outputs": [
    {
     "name": "stderr",
     "output_type": "stream",
     "text": [
      "/root/anaconda3/envs/training-pipeline/lib/python3.10/site-packages/transformers/modeling_utils.py:4565: FutureWarning: `_is_quantized_training_enabled` is going to be deprecated in transformers 4.39.0. Please use `model.hf_quantizer.is_trainable` instead\n",
      "  warnings.warn(\n",
      "/root/anaconda3/envs/training-pipeline/lib/python3.10/site-packages/transformers/models/distilbert/modeling_distilbert.py:230: TracerWarning: torch.tensor results are registered as constants in the trace. You can safely ignore this warning if you use this function to create tensors out of constant variables that would be the same every time you call this function. In any other case, this might cause the trace to be incorrect.\n",
      "  mask, torch.tensor(torch.finfo(scores.dtype).min)\n"
     ]
    }
   ],
   "source": [
    "model = model.to('cpu')\n",
    "traced_model = torch.jit.trace(model, dummy_input)\n",
    "torch.jit.save(traced_model, \"trace_model/traced_ner.pt\")"
   ]
  },
  {
   "cell_type": "code",
   "execution_count": 29,
   "metadata": {},
   "outputs": [
    {
     "data": {
      "text/plain": [
       "RecursiveScriptModule(\n",
       "  original_name=DistilBertForTokenClassification\n",
       "  (distilbert): RecursiveScriptModule(\n",
       "    original_name=DistilBertModel\n",
       "    (embeddings): RecursiveScriptModule(\n",
       "      original_name=Embeddings\n",
       "      (word_embeddings): RecursiveScriptModule(original_name=Embedding)\n",
       "      (position_embeddings): RecursiveScriptModule(original_name=Embedding)\n",
       "      (LayerNorm): RecursiveScriptModule(original_name=LayerNorm)\n",
       "      (dropout): RecursiveScriptModule(original_name=Dropout)\n",
       "    )\n",
       "    (transformer): RecursiveScriptModule(\n",
       "      original_name=Transformer\n",
       "      (layer): RecursiveScriptModule(\n",
       "        original_name=ModuleList\n",
       "        (0): RecursiveScriptModule(\n",
       "          original_name=TransformerBlock\n",
       "          (attention): RecursiveScriptModule(\n",
       "            original_name=MultiHeadSelfAttention\n",
       "            (dropout): RecursiveScriptModule(original_name=Dropout)\n",
       "            (q_lin): RecursiveScriptModule(original_name=Linear)\n",
       "            (k_lin): RecursiveScriptModule(original_name=Linear)\n",
       "            (v_lin): RecursiveScriptModule(original_name=Linear)\n",
       "            (out_lin): RecursiveScriptModule(original_name=Linear)\n",
       "          )\n",
       "          (sa_layer_norm): RecursiveScriptModule(original_name=LayerNorm)\n",
       "          (ffn): RecursiveScriptModule(\n",
       "            original_name=FFN\n",
       "            (dropout): RecursiveScriptModule(original_name=Dropout)\n",
       "            (lin1): RecursiveScriptModule(original_name=Linear)\n",
       "            (lin2): RecursiveScriptModule(original_name=Linear)\n",
       "            (activation): RecursiveScriptModule(original_name=GELUActivation)\n",
       "          )\n",
       "          (output_layer_norm): RecursiveScriptModule(original_name=LayerNorm)\n",
       "        )\n",
       "        (1): RecursiveScriptModule(\n",
       "          original_name=TransformerBlock\n",
       "          (attention): RecursiveScriptModule(\n",
       "            original_name=MultiHeadSelfAttention\n",
       "            (dropout): RecursiveScriptModule(original_name=Dropout)\n",
       "            (q_lin): RecursiveScriptModule(original_name=Linear)\n",
       "            (k_lin): RecursiveScriptModule(original_name=Linear)\n",
       "            (v_lin): RecursiveScriptModule(original_name=Linear)\n",
       "            (out_lin): RecursiveScriptModule(original_name=Linear)\n",
       "          )\n",
       "          (sa_layer_norm): RecursiveScriptModule(original_name=LayerNorm)\n",
       "          (ffn): RecursiveScriptModule(\n",
       "            original_name=FFN\n",
       "            (dropout): RecursiveScriptModule(original_name=Dropout)\n",
       "            (lin1): RecursiveScriptModule(original_name=Linear)\n",
       "            (lin2): RecursiveScriptModule(original_name=Linear)\n",
       "            (activation): RecursiveScriptModule(original_name=GELUActivation)\n",
       "          )\n",
       "          (output_layer_norm): RecursiveScriptModule(original_name=LayerNorm)\n",
       "        )\n",
       "        (2): RecursiveScriptModule(\n",
       "          original_name=TransformerBlock\n",
       "          (attention): RecursiveScriptModule(\n",
       "            original_name=MultiHeadSelfAttention\n",
       "            (dropout): RecursiveScriptModule(original_name=Dropout)\n",
       "            (q_lin): RecursiveScriptModule(original_name=Linear)\n",
       "            (k_lin): RecursiveScriptModule(original_name=Linear)\n",
       "            (v_lin): RecursiveScriptModule(original_name=Linear)\n",
       "            (out_lin): RecursiveScriptModule(original_name=Linear)\n",
       "          )\n",
       "          (sa_layer_norm): RecursiveScriptModule(original_name=LayerNorm)\n",
       "          (ffn): RecursiveScriptModule(\n",
       "            original_name=FFN\n",
       "            (dropout): RecursiveScriptModule(original_name=Dropout)\n",
       "            (lin1): RecursiveScriptModule(original_name=Linear)\n",
       "            (lin2): RecursiveScriptModule(original_name=Linear)\n",
       "            (activation): RecursiveScriptModule(original_name=GELUActivation)\n",
       "          )\n",
       "          (output_layer_norm): RecursiveScriptModule(original_name=LayerNorm)\n",
       "        )\n",
       "        (3): RecursiveScriptModule(\n",
       "          original_name=TransformerBlock\n",
       "          (attention): RecursiveScriptModule(\n",
       "            original_name=MultiHeadSelfAttention\n",
       "            (dropout): RecursiveScriptModule(original_name=Dropout)\n",
       "            (q_lin): RecursiveScriptModule(original_name=Linear)\n",
       "            (k_lin): RecursiveScriptModule(original_name=Linear)\n",
       "            (v_lin): RecursiveScriptModule(original_name=Linear)\n",
       "            (out_lin): RecursiveScriptModule(original_name=Linear)\n",
       "          )\n",
       "          (sa_layer_norm): RecursiveScriptModule(original_name=LayerNorm)\n",
       "          (ffn): RecursiveScriptModule(\n",
       "            original_name=FFN\n",
       "            (dropout): RecursiveScriptModule(original_name=Dropout)\n",
       "            (lin1): RecursiveScriptModule(original_name=Linear)\n",
       "            (lin2): RecursiveScriptModule(original_name=Linear)\n",
       "            (activation): RecursiveScriptModule(original_name=GELUActivation)\n",
       "          )\n",
       "          (output_layer_norm): RecursiveScriptModule(original_name=LayerNorm)\n",
       "        )\n",
       "        (4): RecursiveScriptModule(\n",
       "          original_name=TransformerBlock\n",
       "          (attention): RecursiveScriptModule(\n",
       "            original_name=MultiHeadSelfAttention\n",
       "            (dropout): RecursiveScriptModule(original_name=Dropout)\n",
       "            (q_lin): RecursiveScriptModule(original_name=Linear)\n",
       "            (k_lin): RecursiveScriptModule(original_name=Linear)\n",
       "            (v_lin): RecursiveScriptModule(original_name=Linear)\n",
       "            (out_lin): RecursiveScriptModule(original_name=Linear)\n",
       "          )\n",
       "          (sa_layer_norm): RecursiveScriptModule(original_name=LayerNorm)\n",
       "          (ffn): RecursiveScriptModule(\n",
       "            original_name=FFN\n",
       "            (dropout): RecursiveScriptModule(original_name=Dropout)\n",
       "            (lin1): RecursiveScriptModule(original_name=Linear)\n",
       "            (lin2): RecursiveScriptModule(original_name=Linear)\n",
       "            (activation): RecursiveScriptModule(original_name=GELUActivation)\n",
       "          )\n",
       "          (output_layer_norm): RecursiveScriptModule(original_name=LayerNorm)\n",
       "        )\n",
       "        (5): RecursiveScriptModule(\n",
       "          original_name=TransformerBlock\n",
       "          (attention): RecursiveScriptModule(\n",
       "            original_name=MultiHeadSelfAttention\n",
       "            (dropout): RecursiveScriptModule(original_name=Dropout)\n",
       "            (q_lin): RecursiveScriptModule(original_name=Linear)\n",
       "            (k_lin): RecursiveScriptModule(original_name=Linear)\n",
       "            (v_lin): RecursiveScriptModule(original_name=Linear)\n",
       "            (out_lin): RecursiveScriptModule(original_name=Linear)\n",
       "          )\n",
       "          (sa_layer_norm): RecursiveScriptModule(original_name=LayerNorm)\n",
       "          (ffn): RecursiveScriptModule(\n",
       "            original_name=FFN\n",
       "            (dropout): RecursiveScriptModule(original_name=Dropout)\n",
       "            (lin1): RecursiveScriptModule(original_name=Linear)\n",
       "            (lin2): RecursiveScriptModule(original_name=Linear)\n",
       "            (activation): RecursiveScriptModule(original_name=GELUActivation)\n",
       "          )\n",
       "          (output_layer_norm): RecursiveScriptModule(original_name=LayerNorm)\n",
       "        )\n",
       "      )\n",
       "    )\n",
       "  )\n",
       "  (dropout): RecursiveScriptModule(original_name=Dropout)\n",
       "  (classifier): RecursiveScriptModule(original_name=Linear)\n",
       ")"
      ]
     },
     "execution_count": 29,
     "metadata": {},
     "output_type": "execute_result"
    }
   ],
   "source": [
    "loaded_model = torch.jit.load(\"trace_model/traced_ner.pt\")\n",
    "loaded_model.eval()"
   ]
  },
  {
   "cell_type": "code",
   "execution_count": 30,
   "metadata": {},
   "outputs": [],
   "source": [
    "with torch.no_grad():\n",
    "    pred = loaded_model(tokens_tensor, segments_tensors)\n"
   ]
  },
  {
   "cell_type": "code",
   "execution_count": 31,
   "metadata": {},
   "outputs": [
    {
     "data": {
      "text/plain": [
       "array([ 0,  0,  0,  9, 10,  0,  0,  9, 10,  0,  0,  0,  0,  0])"
      ]
     },
     "execution_count": 31,
     "metadata": {},
     "output_type": "execute_result"
    }
   ],
   "source": [
    "label = np.argmax(pred, axis=3)\n",
    "label[0][0]"
   ]
  },
  {
   "cell_type": "code",
   "execution_count": 32,
   "metadata": {},
   "outputs": [
    {
     "data": {
      "text/plain": [
       "['O',\n",
       " 'O',\n",
       " 'O',\n",
       " 'B-person',\n",
       " 'I-person',\n",
       " 'O',\n",
       " 'O',\n",
       " 'B-person',\n",
       " 'I-person',\n",
       " 'O',\n",
       " 'O',\n",
       " 'O',\n",
       " 'O',\n",
       " 'O']"
      ]
     },
     "execution_count": 32,
     "metadata": {},
     "output_type": "execute_result"
    }
   ],
   "source": [
    "pred_labels = [label_list[i] for i in label[0][0]]\n",
    "pred_labels"
   ]
  },
  {
   "cell_type": "code",
   "execution_count": 33,
   "metadata": {},
   "outputs": [],
   "source": [
    "# import random\n",
    "# import string\n",
    "\n",
    "# def generate_random_string(length=10):\n",
    "\n",
    "#   letters_and_digits = string.ascii_lowercase + string.digits\n",
    "#   return ''.join(random.choice(letters_and_digits) for _ in range(length))\n",
    "\n",
    "# # Generate a random string for the run name\n",
    "# random_run_name = generate_random_string()"
   ]
  },
  {
   "cell_type": "code",
   "execution_count": null,
   "metadata": {},
   "outputs": [],
   "source": []
  }
 ],
 "metadata": {
  "kernelspec": {
   "display_name": "training-pipeline",
   "language": "python",
   "name": "python3"
  },
  "language_info": {
   "codemirror_mode": {
    "name": "ipython",
    "version": 3
   },
   "file_extension": ".py",
   "mimetype": "text/x-python",
   "name": "python",
   "nbconvert_exporter": "python",
   "pygments_lexer": "ipython3",
   "version": "3.10.14"
  }
 },
 "nbformat": 4,
 "nbformat_minor": 2
}
