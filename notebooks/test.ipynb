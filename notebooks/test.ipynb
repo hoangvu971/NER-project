{
 "cells": [
  {
   "cell_type": "code",
   "execution_count": 4,
   "metadata": {},
   "outputs": [
    {
     "name": "stderr",
     "output_type": "stream",
     "text": [
      "/opt/conda/envs/training-pipeline/lib/python3.10/site-packages/tqdm/auto.py:21: TqdmWarning: IProgress not found. Please update jupyter and ipywidgets. See https://ipywidgets.readthedocs.io/en/stable/user_install.html\n",
      "  from .autonotebook import tqdm as notebook_tqdm\n"
     ]
    }
   ],
   "source": [
    "from gliner import GLiNER\n",
    "\n",
    "model_path = \"../models/gliner_medium-v2.1\""
   ]
  },
  {
   "cell_type": "code",
   "execution_count": 5,
   "metadata": {},
   "outputs": [
    {
     "name": "stderr",
     "output_type": "stream",
     "text": [
      "Special tokens have been added in the vocabulary, make sure the associated word embeddings are fine-tuned or trained.\n"
     ]
    }
   ],
   "source": [
    "from src.word_process.inputs_outputs_process import DataProcess\n",
    "\n",
    "data_process = DataProcess(model_path)"
   ]
  },
  {
   "cell_type": "code",
   "execution_count": 6,
   "metadata": {},
   "outputs": [],
   "source": [
    "text = \"\"\"\n",
    "Libretto by Marius Petipa, based on the 1822 novella ``Trilby, ou Le Lutin d'Argail`` by Charles Nodier, first presented by the Ballet of the Moscow Imperial Bolshoi Theatre on January 25/February 6 (Julian/Gregorian calendar dates), 1870, in Moscow with Polina Karpakova as Trilby and Ludiia Geiten as Miranda and restaged by Petipa for the Imperial Ballet at the Imperial Bolshoi Kamenny Theatre on January 17–29, 1871 in St. Petersburg with Adèle Grantzow as Trilby and Lev Ivanov as Count Leopold.\n",
    "\"\"\"\n",
    "\n",
    "labels = [\"person\", \"book\", \"location\", \"date\", \"actor\", \"character\"]"
   ]
  },
  {
   "cell_type": "code",
   "execution_count": 26,
   "metadata": {},
   "outputs": [],
   "source": [
    "inputs, raw_batch = data_process.prepare_model_inputs([text], labels)"
   ]
  },
  {
   "cell_type": "code",
   "execution_count": 28,
   "metadata": {},
   "outputs": [
    {
     "data": {
      "text/plain": [
       "array([[[[ -4.7636776 ,  -4.2976203 ,  -4.116477  ,  -7.035563  ,\n",
       "           -9.894087  ,  -7.4880915 ],\n",
       "         [ -8.262269  , -12.352715  , -11.220077  , -10.343983  ,\n",
       "          -13.137346  , -14.714043  ],\n",
       "         [-10.471894  , -15.731391  , -13.373329  , -15.038684  ,\n",
       "          -16.880022  , -17.588394  ],\n",
       "         ...,\n",
       "         [ -8.046515  ,  -4.714387  ,  -8.437423  , -10.586559  ,\n",
       "          -15.44794   , -13.28521   ],\n",
       "         [-13.631119  , -19.325733  , -19.001099  , -17.626635  ,\n",
       "          -21.054552  , -24.232693  ],\n",
       "         [-13.784239  , -19.712738  , -19.218586  , -16.724798  ,\n",
       "          -20.799793  , -24.24158   ]],\n",
       "\n",
       "        [[ -8.033905  , -14.901958  ,  -9.891759  , -10.122342  ,\n",
       "          -12.113761  , -11.662863  ],\n",
       "         [-11.870149  , -20.119553  , -14.889593  , -16.738356  ,\n",
       "          -18.160854  , -18.726141  ],\n",
       "         [ -6.759687  ,  -9.722449  , -10.42029   , -12.322544  ,\n",
       "          -11.859332  , -13.656987  ],\n",
       "         ...,\n",
       "         [-12.509389  , -20.615755  , -16.241869  , -16.013374  ,\n",
       "          -18.891043  , -19.690603  ],\n",
       "         [-12.12798   , -20.36616   , -15.685606  , -14.816378  ,\n",
       "          -17.985018  , -18.682438  ],\n",
       "         [ -9.777751  , -12.863137  , -12.298193  , -13.607157  ,\n",
       "          -14.242966  , -12.645675  ]],\n",
       "\n",
       "        [[ -6.6479044 , -12.6652775 , -10.150802  , -13.235484  ,\n",
       "          -11.952862  , -12.776805  ],\n",
       "         [ -0.62019145,  -3.2522483 ,  -7.536833  , -12.255285  ,\n",
       "           -4.890623  ,  -6.6823916 ],\n",
       "         [-11.105419  , -17.173265  , -19.615131  , -20.092134  ,\n",
       "          -17.997337  , -22.78754   ],\n",
       "         ...,\n",
       "         [-14.713901  , -21.943344  , -23.320402  , -19.6682    ,\n",
       "          -21.749512  , -28.483269  ],\n",
       "         [ -5.158769  ,  -7.14263   , -10.128634  , -13.640219  ,\n",
       "           -8.380973  ,  -5.455635  ],\n",
       "         [ -8.658106  , -12.798456  , -13.199855  , -13.357229  ,\n",
       "          -13.4056635 , -14.644138  ]],\n",
       "\n",
       "        ...,\n",
       "\n",
       "        [[ -6.344106  , -12.0608635 ,  -9.872192  , -11.666688  ,\n",
       "           -8.844919  ,  -5.417792  ],\n",
       "         [ -3.3735273 ,  -4.680607  ,  -9.109083  , -10.042906  ,\n",
       "           -3.3151903 ,   1.7706512 ],\n",
       "         [ -9.340539  , -15.295229  , -17.361122  , -16.249168  ,\n",
       "          -12.782448  , -13.620747  ],\n",
       "         ...,\n",
       "         [ -4.7636776 ,  -4.2976203 ,  -4.116477  ,  -7.035563  ,\n",
       "           -9.894087  ,  -7.4880915 ],\n",
       "         [ -4.7636776 ,  -4.2976203 ,  -4.116477  ,  -7.035563  ,\n",
       "           -9.894087  ,  -7.4880915 ],\n",
       "         [ -4.7636776 ,  -4.2976203 ,  -4.116477  ,  -7.035563  ,\n",
       "           -9.894087  ,  -7.4880915 ]],\n",
       "\n",
       "        [[ -4.6649013 ,  -7.273744  ,  -9.121432  , -10.658335  ,\n",
       "           -5.98869   ,  -1.8493835 ],\n",
       "         [-10.318626  , -17.461903  , -17.717495  , -17.121876  ,\n",
       "          -14.497184  , -15.112764  ],\n",
       "         [ -4.7636776 ,  -4.2976203 ,  -4.116477  ,  -7.035563  ,\n",
       "           -9.894087  ,  -7.4880915 ],\n",
       "         ...,\n",
       "         [ -4.7636776 ,  -4.2976203 ,  -4.116477  ,  -7.035563  ,\n",
       "           -9.894087  ,  -7.4880915 ],\n",
       "         [ -4.7636776 ,  -4.2976203 ,  -4.116477  ,  -7.035563  ,\n",
       "           -9.894087  ,  -7.4880915 ],\n",
       "         [ -4.7636776 ,  -4.2976203 ,  -4.116477  ,  -7.035563  ,\n",
       "           -9.894087  ,  -7.4880915 ]],\n",
       "\n",
       "        [[ -8.575262  , -16.079472  , -12.391766  , -13.522583  ,\n",
       "          -12.431314  , -11.011567  ],\n",
       "         [ -4.7636776 ,  -4.2976203 ,  -4.116477  ,  -7.035563  ,\n",
       "           -9.894087  ,  -7.4880915 ],\n",
       "         [ -4.7636776 ,  -4.2976203 ,  -4.116477  ,  -7.035563  ,\n",
       "           -9.894087  ,  -7.4880915 ],\n",
       "         ...,\n",
       "         [ -4.7636776 ,  -4.2976203 ,  -4.116477  ,  -7.035563  ,\n",
       "           -9.894087  ,  -7.4880915 ],\n",
       "         [ -4.7636776 ,  -4.2976203 ,  -4.116477  ,  -7.035563  ,\n",
       "           -9.894087  ,  -7.4880915 ],\n",
       "         [ -4.7636776 ,  -4.2976203 ,  -4.116477  ,  -7.035563  ,\n",
       "           -9.894087  ,  -7.4880915 ]]]], dtype=float32)"
      ]
     },
     "execution_count": 28,
     "metadata": {},
     "output_type": "execute_result"
    }
   ],
   "source": [
    "import torch\n",
    "import onnxruntime\n",
    "ort_sess = onnxruntime.InferenceSession(\"../models/gliner_medium-v2.1/model.onnx\")\n",
    "\n",
    "outputs = ort_sess.run(None, {'input_ids': inputs['input_ids'].numpy(),\n",
    "                            'attention_mask': inputs['attention_mask'].numpy(),\n",
    "                            'words_mask': inputs['words_mask'].numpy(),\n",
    "                            'text_lengths': inputs['text_lengths'].numpy(),\n",
    "                            'span_idx': inputs['span_idx'].numpy(),\n",
    "                            'span_mask': inputs['span_mask'].numpy(),\n",
    "                            })[0]\n",
    "outputs"
   ]
  },
  {
   "cell_type": "code",
   "execution_count": 29,
   "metadata": {},
   "outputs": [
    {
     "ename": "TypeError",
     "evalue": "sigmoid(): argument 'input' (position 1) must be Tensor, not numpy.ndarray",
     "output_type": "error",
     "traceback": [
      "\u001b[0;31m---------------------------------------------------------------------------\u001b[0m",
      "\u001b[0;31mTypeError\u001b[0m                                 Traceback (most recent call last)",
      "Cell \u001b[0;32mIn[29], line 1\u001b[0m\n\u001b[0;32m----> 1\u001b[0m outputs \u001b[38;5;241m=\u001b[39m \u001b[43mdata_process\u001b[49m\u001b[38;5;241;43m.\u001b[39;49m\u001b[43mdecode\u001b[49m\u001b[43m(\u001b[49m\u001b[43mraw_batch\u001b[49m\u001b[43m[\u001b[49m\u001b[38;5;124;43m\"\u001b[39;49m\u001b[38;5;124;43mtokens\u001b[39;49m\u001b[38;5;124;43m\"\u001b[39;49m\u001b[43m]\u001b[49m\u001b[43m,\u001b[49m\u001b[43m \u001b[49m\u001b[43mraw_batch\u001b[49m\u001b[43m[\u001b[49m\u001b[38;5;124;43m\"\u001b[39;49m\u001b[38;5;124;43mid_to_classes\u001b[39;49m\u001b[38;5;124;43m\"\u001b[39;49m\u001b[43m]\u001b[49m\u001b[43m,\u001b[49m\u001b[43m \u001b[49m\u001b[43moutputs\u001b[49m\u001b[43m)\u001b[49m\n",
      "File \u001b[0;32m/workspaces/NER-project/src/word_process/inputs_outputs_process.py:94\u001b[0m, in \u001b[0;36mDataProcess.decode\u001b[0;34m(self, tokens, id_to_classes, model_output, flat_ner, threshold, multi_label)\u001b[0m\n\u001b[1;32m     93\u001b[0m \u001b[38;5;28;01mdef\u001b[39;00m \u001b[38;5;21mdecode\u001b[39m(\u001b[38;5;28mself\u001b[39m, tokens, id_to_classes, model_output, flat_ner\u001b[38;5;241m=\u001b[39m\u001b[38;5;28;01mTrue\u001b[39;00m, threshold\u001b[38;5;241m=\u001b[39m\u001b[38;5;241m0.5\u001b[39m, multi_label\u001b[38;5;241m=\u001b[39m\u001b[38;5;28;01mFalse\u001b[39;00m):\n\u001b[0;32m---> 94\u001b[0m     \u001b[38;5;28;01mreturn\u001b[39;00m \u001b[38;5;28;43mself\u001b[39;49m\u001b[38;5;241;43m.\u001b[39;49m\u001b[43mdecoder\u001b[49m\u001b[38;5;241;43m.\u001b[39;49m\u001b[43mdecode\u001b[49m\u001b[43m(\u001b[49m\u001b[43mtokens\u001b[49m\u001b[43m,\u001b[49m\u001b[43m \u001b[49m\u001b[43mid_to_classes\u001b[49m\u001b[43m,\u001b[49m\u001b[43m \u001b[49m\u001b[43mmodel_output\u001b[49m\u001b[43m,\u001b[49m\u001b[43m \u001b[49m\u001b[43mflat_ner\u001b[49m\u001b[43m,\u001b[49m\u001b[43m \u001b[49m\u001b[43mthreshold\u001b[49m\u001b[43m,\u001b[49m\u001b[43m \u001b[49m\u001b[43mmulti_label\u001b[49m\u001b[43m)\u001b[49m\n",
      "File \u001b[0;32m/workspaces/NER-project/src/decoding/decoder.py:41\u001b[0m, in \u001b[0;36mSpanDecoder.decode\u001b[0;34m(self, tokens, id_to_classes, model_output, flat_ner, threshold, multi_label)\u001b[0m\n\u001b[1;32m     40\u001b[0m \u001b[38;5;28;01mdef\u001b[39;00m \u001b[38;5;21mdecode\u001b[39m(\u001b[38;5;28mself\u001b[39m, tokens, id_to_classes, model_output, flat_ner\u001b[38;5;241m=\u001b[39m\u001b[38;5;28;01mFalse\u001b[39;00m, threshold\u001b[38;5;241m=\u001b[39m\u001b[38;5;241m0.5\u001b[39m, multi_label\u001b[38;5;241m=\u001b[39m\u001b[38;5;28;01mFalse\u001b[39;00m):\n\u001b[0;32m---> 41\u001b[0m     probs \u001b[38;5;241m=\u001b[39m \u001b[43mtorch\u001b[49m\u001b[38;5;241;43m.\u001b[39;49m\u001b[43msigmoid\u001b[49m\u001b[43m(\u001b[49m\u001b[43mmodel_output\u001b[49m\u001b[43m)\u001b[49m\n\u001b[1;32m     42\u001b[0m     spans \u001b[38;5;241m=\u001b[39m []\n\u001b[1;32m     43\u001b[0m     \u001b[38;5;28;01mfor\u001b[39;00m i, _ \u001b[38;5;129;01min\u001b[39;00m \u001b[38;5;28menumerate\u001b[39m(tokens):\n",
      "\u001b[0;31mTypeError\u001b[0m: sigmoid(): argument 'input' (position 1) must be Tensor, not numpy.ndarray"
     ]
    },
    {
     "ename": "",
     "evalue": "",
     "output_type": "error",
     "traceback": [
      "\u001b[1;31mThe Kernel crashed while executing code in the current cell or a previous cell. \n",
      "\u001b[1;31mPlease review the code in the cell(s) to identify a possible cause of the failure. \n",
      "\u001b[1;31mClick <a href='https://aka.ms/vscodeJupyterKernelCrash'>here</a> for more info. \n",
      "\u001b[1;31mView Jupyter <a href='command:jupyter.viewOutput'>log</a> for further details."
     ]
    }
   ],
   "source": [
    "import torch\n",
    "outputs = data_process.decode(raw_batch[\"tokens\"], raw_batch[\"id_to_classes\"], torch.tensor(outputs))"
   ]
  },
  {
   "cell_type": "code",
   "execution_count": 10,
   "metadata": {},
   "outputs": [
    {
     "data": {
      "text/plain": [
       "[(12, 12, 'character', 0.9745467305183411),\n",
       " (33, 33, 'location', 0.9113682508468628),\n",
       " (38, 42, 'date', 0.7391266226768494),\n",
       " (51, 51, 'date', 0.5650821924209595),\n",
       " (54, 54, 'location', 0.9242361187934875),\n",
       " (56, 57, 'actor', 0.9268550276756287),\n",
       " (59, 59, 'character', 0.9865744709968567),\n",
       " (61, 62, 'actor', 0.8973000645637512),\n",
       " (64, 64, 'character', 0.7989766597747803),\n",
       " (80, 85, 'date', 0.9063624143600464),\n",
       " (87, 89, 'location', 0.9150590300559998),\n",
       " (91, 92, 'actor', 0.9332297444343567),\n",
       " (94, 94, 'character', 0.9905427098274231),\n",
       " (96, 97, 'actor', 0.9347705245018005),\n",
       " (99, 100, 'character', 0.8545386791229248)]"
      ]
     },
     "execution_count": 10,
     "metadata": {},
     "output_type": "execute_result"
    }
   ],
   "source": [
    "outputs[0]"
   ]
  },
  {
   "cell_type": "code",
   "execution_count": 23,
   "metadata": {},
   "outputs": [
    {
     "name": "stderr",
     "output_type": "stream",
     "text": [
      "'Runner.init_local' is for debugging and testing only. Make sure to remove it before deploying to production.\n"
     ]
    }
   ],
   "source": [
    "import bentoml\n",
    "runner = bentoml.onnx.get(\"ner:latest\").to_runner()\n",
    "runner.init_local()"
   ]
  },
  {
   "cell_type": "code",
   "execution_count": 24,
   "metadata": {},
   "outputs": [],
   "source": [
    "output = runner.run.run(inputs['input_ids'].numpy(),\n",
    "                inputs['attention_mask'].numpy(),\n",
    "                inputs['words_mask'].numpy(),\n",
    "                inputs['text_lengths'].numpy(),\n",
    "                inputs['span_idx'].numpy(),\n",
    "                inputs['span_mask'].numpy())"
   ]
  },
  {
   "cell_type": "code",
   "execution_count": 25,
   "metadata": {},
   "outputs": [
    {
     "data": {
      "text/plain": [
       "(array([[[[ -4.7636776 ,  -4.2976203 ,  -4.116477  ,  -7.035563  ,\n",
       "            -9.894087  ,  -7.4880915 ],\n",
       "          [ -8.262269  , -12.352715  , -11.220077  , -10.343983  ,\n",
       "           -13.137346  , -14.714043  ],\n",
       "          [-10.471894  , -15.731391  , -13.373329  , -15.038684  ,\n",
       "           -16.880022  , -17.588394  ],\n",
       "          ...,\n",
       "          [ -8.046515  ,  -4.714387  ,  -8.437423  , -10.586559  ,\n",
       "           -15.44794   , -13.28521   ],\n",
       "          [-13.631119  , -19.325733  , -19.001099  , -17.626635  ,\n",
       "           -21.054552  , -24.232693  ],\n",
       "          [-13.784239  , -19.712738  , -19.218586  , -16.724798  ,\n",
       "           -20.799793  , -24.24158   ]],\n",
       " \n",
       "         [[ -8.033905  , -14.901958  ,  -9.891759  , -10.122342  ,\n",
       "           -12.113761  , -11.662863  ],\n",
       "          [-11.870149  , -20.119553  , -14.889593  , -16.738356  ,\n",
       "           -18.160854  , -18.726141  ],\n",
       "          [ -6.759687  ,  -9.722449  , -10.42029   , -12.322544  ,\n",
       "           -11.859332  , -13.656987  ],\n",
       "          ...,\n",
       "          [-12.509389  , -20.615755  , -16.241869  , -16.013374  ,\n",
       "           -18.891043  , -19.690603  ],\n",
       "          [-12.12798   , -20.36616   , -15.685606  , -14.816378  ,\n",
       "           -17.985018  , -18.682438  ],\n",
       "          [ -9.777751  , -12.863137  , -12.298193  , -13.607157  ,\n",
       "           -14.242966  , -12.645675  ]],\n",
       " \n",
       "         [[ -6.6479044 , -12.6652775 , -10.150802  , -13.235484  ,\n",
       "           -11.952862  , -12.776805  ],\n",
       "          [ -0.62019145,  -3.2522483 ,  -7.536833  , -12.255285  ,\n",
       "            -4.890623  ,  -6.6823916 ],\n",
       "          [-11.105419  , -17.173265  , -19.615131  , -20.092134  ,\n",
       "           -17.997337  , -22.78754   ],\n",
       "          ...,\n",
       "          [-14.713901  , -21.943344  , -23.320402  , -19.6682    ,\n",
       "           -21.749512  , -28.483269  ],\n",
       "          [ -5.158769  ,  -7.14263   , -10.128634  , -13.640219  ,\n",
       "            -8.380973  ,  -5.455635  ],\n",
       "          [ -8.658106  , -12.798456  , -13.199855  , -13.357229  ,\n",
       "           -13.4056635 , -14.644138  ]],\n",
       " \n",
       "         ...,\n",
       " \n",
       "         [[ -6.344106  , -12.0608635 ,  -9.872192  , -11.666688  ,\n",
       "            -8.844919  ,  -5.417792  ],\n",
       "          [ -3.3735273 ,  -4.680607  ,  -9.109083  , -10.042906  ,\n",
       "            -3.3151903 ,   1.7706512 ],\n",
       "          [ -9.340539  , -15.295229  , -17.361122  , -16.249168  ,\n",
       "           -12.782448  , -13.620747  ],\n",
       "          ...,\n",
       "          [ -4.7636776 ,  -4.2976203 ,  -4.116477  ,  -7.035563  ,\n",
       "            -9.894087  ,  -7.4880915 ],\n",
       "          [ -4.7636776 ,  -4.2976203 ,  -4.116477  ,  -7.035563  ,\n",
       "            -9.894087  ,  -7.4880915 ],\n",
       "          [ -4.7636776 ,  -4.2976203 ,  -4.116477  ,  -7.035563  ,\n",
       "            -9.894087  ,  -7.4880915 ]],\n",
       " \n",
       "         [[ -4.6649013 ,  -7.273744  ,  -9.121432  , -10.658335  ,\n",
       "            -5.98869   ,  -1.8493835 ],\n",
       "          [-10.318626  , -17.461903  , -17.717495  , -17.121876  ,\n",
       "           -14.497184  , -15.112764  ],\n",
       "          [ -4.7636776 ,  -4.2976203 ,  -4.116477  ,  -7.035563  ,\n",
       "            -9.894087  ,  -7.4880915 ],\n",
       "          ...,\n",
       "          [ -4.7636776 ,  -4.2976203 ,  -4.116477  ,  -7.035563  ,\n",
       "            -9.894087  ,  -7.4880915 ],\n",
       "          [ -4.7636776 ,  -4.2976203 ,  -4.116477  ,  -7.035563  ,\n",
       "            -9.894087  ,  -7.4880915 ],\n",
       "          [ -4.7636776 ,  -4.2976203 ,  -4.116477  ,  -7.035563  ,\n",
       "            -9.894087  ,  -7.4880915 ]],\n",
       " \n",
       "         [[ -8.575262  , -16.079472  , -12.391766  , -13.522583  ,\n",
       "           -12.431314  , -11.011567  ],\n",
       "          [ -4.7636776 ,  -4.2976203 ,  -4.116477  ,  -7.035563  ,\n",
       "            -9.894087  ,  -7.4880915 ],\n",
       "          [ -4.7636776 ,  -4.2976203 ,  -4.116477  ,  -7.035563  ,\n",
       "            -9.894087  ,  -7.4880915 ],\n",
       "          ...,\n",
       "          [ -4.7636776 ,  -4.2976203 ,  -4.116477  ,  -7.035563  ,\n",
       "            -9.894087  ,  -7.4880915 ],\n",
       "          [ -4.7636776 ,  -4.2976203 ,  -4.116477  ,  -7.035563  ,\n",
       "            -9.894087  ,  -7.4880915 ],\n",
       "          [ -4.7636776 ,  -4.2976203 ,  -4.116477  ,  -7.035563  ,\n",
       "            -9.894087  ,  -7.4880915 ]]]], dtype=float32),\n",
       " array([[[-0.5638456 ,  0.49407333, -0.12533033, ..., -0.10819989,\n",
       "          -0.40718186, -0.19907792],\n",
       "         [-0.29178247,  0.270025  ,  0.09939516, ...,  0.6703167 ,\n",
       "          -0.2574837 , -0.8260018 ],\n",
       "         [-1.5019671 , -0.03195408, -0.03846275, ...,  0.36802605,\n",
       "          -0.40097976, -0.8196717 ],\n",
       "         [-0.03761051,  1.3989596 , -1.4660729 , ..., -0.00463831,\n",
       "          -1.2827853 ,  0.5646048 ],\n",
       "         [ 0.30113754,  1.3912684 , -1.0202036 , ..., -0.28028855,\n",
       "          -1.2998657 ,  0.29760438],\n",
       "         [-0.67424345, -0.08369404,  0.01420983, ...,  0.7857997 ,\n",
       "          -0.49211118, -0.8970561 ]]], dtype=float32),\n",
       " array([[1, 1, 1, 1, 1, 1]], dtype=int64),\n",
       " array([[[ 0.06673778,  0.00672593, -0.03318767, ...,  0.04943149,\n",
       "          -0.01056136,  0.01988995],\n",
       "         [-0.07292216,  0.04489028, -0.07065419, ...,  0.02261196,\n",
       "          -0.06008036,  0.03108723],\n",
       "         [-0.10697716, -0.20065197, -0.07206349, ...,  0.06222606,\n",
       "          -0.09955408, -0.00335875],\n",
       "         ...,\n",
       "         [ 0.39594555, -0.30467284, -0.04116223, ..., -0.02289874,\n",
       "          -0.02214371,  0.05107905],\n",
       "         [ 0.07091493, -0.30762875, -0.08428369, ...,  0.01333753,\n",
       "           0.04030891,  0.01500465],\n",
       "         [ 0.24027841, -0.17905864, -0.6611647 , ...,  0.03879278,\n",
       "          -0.22456741,  0.14826682]]], dtype=float32),\n",
       " array([[ True,  True,  True,  True,  True,  True,  True,  True,  True,\n",
       "          True,  True,  True,  True,  True,  True,  True,  True,  True,\n",
       "          True,  True,  True,  True,  True,  True,  True,  True,  True,\n",
       "          True,  True,  True,  True,  True,  True,  True,  True,  True,\n",
       "          True,  True,  True,  True,  True,  True,  True,  True,  True,\n",
       "          True,  True,  True,  True,  True,  True,  True,  True,  True,\n",
       "          True,  True,  True,  True,  True,  True,  True,  True,  True,\n",
       "          True,  True,  True,  True,  True,  True,  True,  True,  True,\n",
       "          True,  True,  True,  True,  True,  True,  True,  True,  True,\n",
       "          True,  True,  True,  True,  True,  True,  True,  True,  True,\n",
       "          True,  True,  True,  True,  True,  True,  True,  True,  True,\n",
       "          True,  True,  True]]))"
      ]
     },
     "execution_count": 25,
     "metadata": {},
     "output_type": "execute_result"
    }
   ],
   "source": [
    "output"
   ]
  },
  {
   "cell_type": "code",
   "execution_count": null,
   "metadata": {},
   "outputs": [],
   "source": []
  }
 ],
 "metadata": {
  "kernelspec": {
   "display_name": "training-pipeline",
   "language": "python",
   "name": "python3"
  },
  "language_info": {
   "codemirror_mode": {
    "name": "ipython",
    "version": 3
   },
   "file_extension": ".py",
   "mimetype": "text/x-python",
   "name": "python",
   "nbconvert_exporter": "python",
   "pygments_lexer": "ipython3",
   "version": "3.10.14"
  }
 },
 "nbformat": 4,
 "nbformat_minor": 2
}
