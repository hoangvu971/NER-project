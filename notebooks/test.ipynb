{
 "cells": [
  {
   "cell_type": "code",
   "execution_count": 4,
   "metadata": {},
   "outputs": [
    {
     "name": "stderr",
     "output_type": "stream",
     "text": [
      "/opt/conda/envs/training-pipeline/lib/python3.10/site-packages/tqdm/auto.py:21: TqdmWarning: IProgress not found. Please update jupyter and ipywidgets. See https://ipywidgets.readthedocs.io/en/stable/user_install.html\n",
      "  from .autonotebook import tqdm as notebook_tqdm\n"
     ]
    }
   ],
   "source": [
    "from gliner import GLiNER\n",
    "\n",
    "model_path = \"../models/gliner_medium-v2.1\""
   ]
  },
  {
   "cell_type": "code",
   "execution_count": 5,
   "metadata": {},
   "outputs": [
    {
     "name": "stderr",
     "output_type": "stream",
     "text": [
      "Special tokens have been added in the vocabulary, make sure the associated word embeddings are fine-tuned or trained.\n"
     ]
    }
   ],
   "source": [
    "from src.word_process.inputs_outputs_process import DataProcess\n",
    "\n",
    "data_process = DataProcess(model_path)"
   ]
  },
  {
   "cell_type": "code",
   "execution_count": 6,
   "metadata": {},
   "outputs": [],
   "source": [
    "text = \"\"\"\n",
    "Libretto by Marius Petipa, based on the 1822 novella ``Trilby, ou Le Lutin d'Argail`` by Charles Nodier, first presented by the Ballet of the Moscow Imperial Bolshoi Theatre on January 25/February 6 (Julian/Gregorian calendar dates), 1870, in Moscow with Polina Karpakova as Trilby and Ludiia Geiten as Miranda and restaged by Petipa for the Imperial Ballet at the Imperial Bolshoi Kamenny Theatre on January 17–29, 1871 in St. Petersburg with Adèle Grantzow as Trilby and Lev Ivanov as Count Leopold.\n",
    "\"\"\"\n",
    "\n",
    "labels = [\"person\", \"book\", \"location\", \"date\", \"actor\", \"character\"]"
   ]
  },
  {
   "cell_type": "code",
   "execution_count": 7,
   "metadata": {},
   "outputs": [
    {
     "name": "stderr",
     "output_type": "stream",
     "text": [
      "Asking to truncate to max_length but no maximum length is provided and the model has no predefined maximum length. Default to no truncation.\n"
     ]
    }
   ],
   "source": [
    "inputs, raw_batch = data_process.prepare_model_inputs([text], labels)"
   ]
  },
  {
   "cell_type": "code",
   "execution_count": 8,
   "metadata": {},
   "outputs": [],
   "source": [
    "import torch\n",
    "import onnxruntime\n",
    "ort_sess = onnxruntime.InferenceSession(\"../models/gliner_medium-v2.1/model.onnx\")\n",
    "\n",
    "outputs = ort_sess.run(None, {'input_ids': inputs['input_ids'].numpy(),\n",
    "                            'attention_mask': inputs['attention_mask'].numpy(),\n",
    "                            'words_mask': inputs['words_mask'].numpy(),\n",
    "                            'text_lengths': inputs['text_lengths'].numpy(),\n",
    "                            'span_idx': inputs['span_idx'].numpy(),\n",
    "                            'span_mask': inputs['span_mask'].numpy(),\n",
    "                            })[0]\n",
    "outputs = torch.from_numpy(outputs)"
   ]
  },
  {
   "cell_type": "code",
   "execution_count": 9,
   "metadata": {},
   "outputs": [
    {
     "name": "stderr",
     "output_type": "stream",
     "text": [
      "/tmp/ipykernel_106350/3381801605.py:2: UserWarning: To copy construct from a tensor, it is recommended to use sourceTensor.clone().detach() or sourceTensor.clone().detach().requires_grad_(True), rather than torch.tensor(sourceTensor).\n",
      "  outputs = data_process.decode(raw_batch[\"tokens\"], raw_batch[\"id_to_classes\"], torch.tensor(outputs))\n"
     ]
    }
   ],
   "source": [
    "import torch\n",
    "outputs = data_process.decode(raw_batch[\"tokens\"], raw_batch[\"id_to_classes\"], torch.tensor(outputs))"
   ]
  },
  {
   "cell_type": "code",
   "execution_count": 10,
   "metadata": {},
   "outputs": [
    {
     "data": {
      "text/plain": [
       "[(12, 12, 'character', 0.9745467305183411),\n",
       " (33, 33, 'location', 0.9113682508468628),\n",
       " (38, 42, 'date', 0.7391266226768494),\n",
       " (51, 51, 'date', 0.5650821924209595),\n",
       " (54, 54, 'location', 0.9242361187934875),\n",
       " (56, 57, 'actor', 0.9268550276756287),\n",
       " (59, 59, 'character', 0.9865744709968567),\n",
       " (61, 62, 'actor', 0.8973000645637512),\n",
       " (64, 64, 'character', 0.7989766597747803),\n",
       " (80, 85, 'date', 0.9063624143600464),\n",
       " (87, 89, 'location', 0.9150590300559998),\n",
       " (91, 92, 'actor', 0.9332297444343567),\n",
       " (94, 94, 'character', 0.9905427098274231),\n",
       " (96, 97, 'actor', 0.9347705245018005),\n",
       " (99, 100, 'character', 0.8545386791229248)]"
      ]
     },
     "execution_count": 10,
     "metadata": {},
     "output_type": "execute_result"
    }
   ],
   "source": [
    "outputs[0]"
   ]
  },
  {
   "cell_type": "code",
   "execution_count": 15,
   "metadata": {},
   "outputs": [
    {
     "name": "stderr",
     "output_type": "stream",
     "text": [
      "'Runner.init_local' is for debugging and testing only. Make sure to remove it before deploying to production.\n"
     ]
    }
   ],
   "source": [
    "import bentoml\n",
    "runner = bentoml.onnx.get(\"ner:latest\").to_runner()\n",
    "runner.init_local()"
   ]
  },
  {
   "cell_type": "code",
   "execution_count": 21,
   "metadata": {},
   "outputs": [],
   "source": [
    "output = data_process.decode(raw_batch[\"tokens\"], raw_batch[\"id_to_classes\"], torch.tensor(output))"
   ]
  },
  {
   "cell_type": "code",
   "execution_count": 22,
   "metadata": {},
   "outputs": [
    {
     "data": {
      "text/plain": [
       "[[(12, 12, 'character', 0.9745467305183411),\n",
       "  (33, 33, 'location', 0.9113682508468628),\n",
       "  (38, 42, 'date', 0.7391266226768494),\n",
       "  (51, 51, 'date', 0.5650821924209595),\n",
       "  (54, 54, 'location', 0.9242361187934875),\n",
       "  (56, 57, 'actor', 0.9268550276756287),\n",
       "  (59, 59, 'character', 0.9865744709968567),\n",
       "  (61, 62, 'actor', 0.8973000645637512),\n",
       "  (64, 64, 'character', 0.7989766597747803),\n",
       "  (80, 85, 'date', 0.9063624143600464),\n",
       "  (87, 89, 'location', 0.9150590300559998),\n",
       "  (91, 92, 'actor', 0.9332297444343567),\n",
       "  (94, 94, 'character', 0.9905427098274231),\n",
       "  (96, 97, 'actor', 0.9347705245018005),\n",
       "  (99, 100, 'character', 0.8545386791229248)]]"
      ]
     },
     "execution_count": 22,
     "metadata": {},
     "output_type": "execute_result"
    }
   ],
   "source": [
    "output"
   ]
  },
  {
   "cell_type": "code",
   "execution_count": null,
   "metadata": {},
   "outputs": [],
   "source": []
  }
 ],
 "metadata": {
  "kernelspec": {
   "display_name": "training-pipeline",
   "language": "python",
   "name": "python3"
  },
  "language_info": {
   "codemirror_mode": {
    "name": "ipython",
    "version": 3
   },
   "file_extension": ".py",
   "mimetype": "text/x-python",
   "name": "python",
   "nbconvert_exporter": "python",
   "pygments_lexer": "ipython3",
   "version": "3.10.14"
  }
 },
 "nbformat": 4,
 "nbformat_minor": 2
}
